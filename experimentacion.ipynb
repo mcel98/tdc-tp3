{
 "cells": [
  {
   "cell_type": "markdown",
   "metadata": {},
   "source": [
    "# Experimentacion\n",
    "\n",
    "- `read_file` lee la muestra y retorna un `DataFrame` de `pandas`\n",
    "- `plot_udp` imprime el gráfico de torta de el estado de los puertos UDP\n",
    "- `plot_tcp` imprime el gráfico de torta de el estado de los puertos TCP"
   ]
  },
  {
   "cell_type": "code",
   "execution_count": 135,
   "metadata": {},
   "outputs": [],
   "source": [
    "import pandas\n",
    "import matplotlib as plt\n",
    "\n",
    "def read_file(file):\n",
    "    scannedfile = open(file)\n",
    "    df = pandas.read_csv(scannedfile, index_col='port')\n",
    "    scannedfile.close()\n",
    "    return df\n",
    "    \n",
    "def plot_udp(df, title):\n",
    "    return df[['UDP']].value_counts().plot\n",
    "\n",
    "def plot_tcp(df, title):\n",
    "    return df[['TCP', 'TCPflag']].value_counts().plot\n",
    "\n",
    "def open_udp_ports(df):\n",
    "    udp = df[['UDP']]\n",
    "    return udp[udp.UDP != 'Cerrado']\n",
    "\n",
    "def filtrados(df):\n",
    "    filtradosTCP = df['TCP']=='Filtrado'\n",
    "    filtradosUDP = df['UDP']=='Filtrado'\n",
    "    filtAbUDP = df['UDP']=='Abierto | Filtrado'\n",
    "    return df[filtradosTCP & (filtAbUDP|filtradosUDP)]\n",
    "def open_tcp_ports(df):\n",
    "    df_AbiertosTCP= df[df['TCP']=='Abierto']\n",
    "    return df_AbiertosTCP[['TCP', 'TCPflag']]"
   ]
  },
  {
   "cell_type": "markdown",
   "metadata": {},
   "source": [
    "## Munich"
   ]
  },
  {
   "cell_type": "code",
   "execution_count": 185,
   "metadata": {},
   "outputs": [],
   "source": [
    "file_muestra_munich = './munich-138.246.253.15.csv'\n",
    "title_muestra_munich = 'Munich (138.246.253.15)'\n",
    "df_munich = read_file(file_muestra_munich)"
   ]
  },
  {
   "cell_type": "code",
   "execution_count": 186,
   "metadata": {},
   "outputs": [
    {
     "data": {
      "text/plain": [
       "<AxesSubplot:title={'center':'UDP - Munich (138.246.253.15)'}>"
      ]
     },
     "execution_count": 186,
     "metadata": {},
     "output_type": "execute_result"
    },
    {
     "data": {
      "image/png": "[encoded data removed]",
      "text/plain": [
       "<Figure size 432x288 with 1 Axes>"
      ]
     },
     "metadata": {},
     "output_type": "display_data"
    }
   ],
   "source": [
    "plot_udp(df_munich, title_muestra_munich).pie(ylabel='', y='UDP', title='UDP - ' + title_muestra_munich, autopct='%1.1f%%',pctdistance=1.2, labeldistance=1.4)"
   ]
  },
  {
   "cell_type": "code",
   "execution_count": 187,
   "metadata": {},
   "outputs": [
    {
     "data": {
      "text/plain": [
       "array([<AxesSubplot:>], dtype=object)"
      ]
     },
     "execution_count": 187,
     "metadata": {},
     "output_type": "execute_result"
    },
    {
     "data": {
      "image/png": "[encoded data removed]",
      "text/plain": [
       "<Figure size 432x288 with 1 Axes>"
      ]
     },
     "metadata": {},
     "output_type": "display_data"
    }
   ],
   "source": [
    "plot_tcp(df_munich, title_muestra_munich).pie(ylabel='', subplots=True, title='TCP - ' + title_muestra_munich, autopct='%1.1f%%',pctdistance=1.2, labeldistance=1.4)"
   ]
  },
  {
   "cell_type": "code",
   "execution_count": 188,
   "metadata": {},
   "outputs": [
    {
     "data": {
      "text/html": [
       "<div>\n",
       "<style scoped>\n",
       "    .dataframe tbody tr th:only-of-type {\n",
       "        vertical-align: middle;\n",
       "    }\n",
       "\n",
       "    .dataframe tbody tr th {\n",
       "        vertical-align: top;\n",
       "    }\n",
       "\n",
       "    .dataframe thead th {\n",
       "        text-align: right;\n",
       "    }\n",
       "</style>\n",
       "<table border=\"1\" class=\"dataframe\">\n",
       "  <thead>\n",
       "    <tr style=\"text-align: right;\">\n",
       "      <th></th>\n",
       "      <th>TCP</th>\n",
       "      <th>TCPflag</th>\n",
       "    </tr>\n",
       "    <tr>\n",
       "      <th>port</th>\n",
       "      <th></th>\n",
       "      <th></th>\n",
       "    </tr>\n",
       "  </thead>\n",
       "  <tbody>\n",
       "    <tr>\n",
       "      <th>53</th>\n",
       "      <td>Abierto</td>\n",
       "      <td>SA</td>\n",
       "    </tr>\n",
       "    <tr>\n",
       "      <th>80</th>\n",
       "      <td>Abierto</td>\n",
       "      <td>SA</td>\n",
       "    </tr>\n",
       "  </tbody>\n",
       "</table>\n",
       "</div>"
      ],
      "text/plain": [
       "          TCP TCPflag\n",
       "port                 \n",
       "53    Abierto      SA\n",
       "80    Abierto      SA"
      ]
     },
     "execution_count": 188,
     "metadata": {},
     "output_type": "execute_result"
    }
   ],
   "source": [
    "open_tcp_ports(df_munich)"
   ]
  },
  {
   "cell_type": "code",
   "execution_count": 189,
   "metadata": {},
   "outputs": [
    {
     "data": {
      "text/html": [
       "<div>\n",
       "<style scoped>\n",
       "    .dataframe tbody tr th:only-of-type {\n",
       "        vertical-align: middle;\n",
       "    }\n",
       "\n",
       "    .dataframe tbody tr th {\n",
       "        vertical-align: top;\n",
       "    }\n",
       "\n",
       "    .dataframe thead th {\n",
       "        text-align: right;\n",
       "    }\n",
       "</style>\n",
       "<table border=\"1\" class=\"dataframe\">\n",
       "  <thead>\n",
       "    <tr style=\"text-align: right;\">\n",
       "      <th></th>\n",
       "      <th>UDP</th>\n",
       "      <th>TCP</th>\n",
       "      <th>TCPflag</th>\n",
       "    </tr>\n",
       "    <tr>\n",
       "      <th>port</th>\n",
       "      <th></th>\n",
       "      <th></th>\n",
       "      <th></th>\n",
       "    </tr>\n",
       "  </thead>\n",
       "  <tbody>\n",
       "    <tr>\n",
       "      <th>53</th>\n",
       "      <td>Abierto | Filtrado</td>\n",
       "      <td>Abierto</td>\n",
       "      <td>SA</td>\n",
       "    </tr>\n",
       "  </tbody>\n",
       "</table>\n",
       "</div>"
      ],
      "text/plain": [
       "                     UDP      TCP TCPflag\n",
       "port                                     \n",
       "53    Abierto | Filtrado  Abierto      SA"
      ]
     },
     "execution_count": 189,
     "metadata": {},
     "output_type": "execute_result"
    }
   ],
   "source": [
    "pandas.merge(open_udp_ports(df_munich), open_tcp_ports(df_munich), how='inner', on='port')"
   ]
  },
  {
   "cell_type": "code",
   "execution_count": 190,
   "metadata": {},
   "outputs": [
    {
     "data": {
      "text/html": [
       "<div>\n",
       "<style scoped>\n",
       "    .dataframe tbody tr th:only-of-type {\n",
       "        vertical-align: middle;\n",
       "    }\n",
       "\n",
       "    .dataframe tbody tr th {\n",
       "        vertical-align: top;\n",
       "    }\n",
       "\n",
       "    .dataframe thead th {\n",
       "        text-align: right;\n",
       "    }\n",
       "</style>\n",
       "<table border=\"1\" class=\"dataframe\">\n",
       "  <thead>\n",
       "    <tr style=\"text-align: right;\">\n",
       "      <th></th>\n",
       "      <th>TCP</th>\n",
       "      <th>TCPflag</th>\n",
       "      <th>UDP</th>\n",
       "    </tr>\n",
       "    <tr>\n",
       "      <th>port</th>\n",
       "      <th></th>\n",
       "      <th></th>\n",
       "      <th></th>\n",
       "    </tr>\n",
       "  </thead>\n",
       "  <tbody>\n",
       "    <tr>\n",
       "      <th>46</th>\n",
       "      <td>Filtrado</td>\n",
       "      <td>none</td>\n",
       "      <td>Abierto | Filtrado</td>\n",
       "    </tr>\n",
       "    <tr>\n",
       "      <th>282</th>\n",
       "      <td>Filtrado</td>\n",
       "      <td>none</td>\n",
       "      <td>Abierto | Filtrado</td>\n",
       "    </tr>\n",
       "  </tbody>\n",
       "</table>\n",
       "</div>"
      ],
      "text/plain": [
       "           TCP TCPflag                 UDP\n",
       "port                                      \n",
       "46    Filtrado    none  Abierto | Filtrado\n",
       "282   Filtrado    none  Abierto | Filtrado"
      ]
     },
     "execution_count": 190,
     "metadata": {},
     "output_type": "execute_result"
    }
   ],
   "source": [
    "filtrados(df_munich)"
   ]
  },
  {
   "cell_type": "markdown",
   "metadata": {},
   "source": [
    "## Tokyo"
   ]
  },
  {
   "cell_type": "code",
   "execution_count": 167,
   "metadata": {},
   "outputs": [],
   "source": [
    "file_muestra_tokyo='tokyo-133.31.126.182.csv'\n",
    "title_muestra_tokyo='Tokyo (133.31.126.182)'\n",
    "df_tokyo = read_file(file_muestra_tokyo)"
   ]
  },
  {
   "cell_type": "code",
   "execution_count": 168,
   "metadata": {},
   "outputs": [
    {
     "data": {
      "text/plain": [
       "<AxesSubplot:title={'center':'UDP - Tokyo (133.31.126.182)'}>"
      ]
     },
     "execution_count": 168,
     "metadata": {},
     "output_type": "execute_result"
    },
    {
     "data": {
      "image/png": "[encoded data removed]",
      "text/plain": [
       "<Figure size 432x288 with 1 Axes>"
      ]
     },
     "metadata": {},
     "output_type": "display_data"
    }
   ],
   "source": [
    "plot_udp(df_tokyo, title_muestra_tokyo).pie(ylabel='', y='UDP', title='UDP - ' + title_muestra_tokyo, autopct='%1.1f%%',pctdistance=1.2, labeldistance=1.4)"
   ]
  },
  {
   "cell_type": "code",
   "execution_count": 169,
   "metadata": {},
   "outputs": [
    {
     "data": {
      "text/plain": [
       "array([<AxesSubplot:>], dtype=object)"
      ]
     },
     "execution_count": 169,
     "metadata": {},
     "output_type": "execute_result"
    },
    {
     "data": {
      "image/png": "[encoded data removed]",
      "text/plain": [
       "<Figure size 432x288 with 1 Axes>"
      ]
     },
     "metadata": {},
     "output_type": "display_data"
    }
   ],
   "source": [
    "plot_tcp(df_tokyo, title_muestra_tokyo).pie(ylabel='', subplots=True, title='TCP - ' + title_muestra_tokyo, autopct='%1.1f%%',pctdistance=1.2, labeldistance=1.4)"
   ]
  },
  {
   "cell_type": "code",
   "execution_count": 170,
   "metadata": {},
   "outputs": [
    {
     "data": {
      "text/html": [
       "<div>\n",
       "<style scoped>\n",
       "    .dataframe tbody tr th:only-of-type {\n",
       "        vertical-align: middle;\n",
       "    }\n",
       "\n",
       "    .dataframe tbody tr th {\n",
       "        vertical-align: top;\n",
       "    }\n",
       "\n",
       "    .dataframe thead th {\n",
       "        text-align: right;\n",
       "    }\n",
       "</style>\n",
       "<table border=\"1\" class=\"dataframe\">\n",
       "  <thead>\n",
       "    <tr style=\"text-align: right;\">\n",
       "      <th></th>\n",
       "      <th>TCP</th>\n",
       "      <th>TCPflag</th>\n",
       "    </tr>\n",
       "    <tr>\n",
       "      <th>port</th>\n",
       "      <th></th>\n",
       "      <th></th>\n",
       "    </tr>\n",
       "  </thead>\n",
       "  <tbody>\n",
       "    <tr>\n",
       "      <th>53</th>\n",
       "      <td>Abierto</td>\n",
       "      <td>SA</td>\n",
       "    </tr>\n",
       "  </tbody>\n",
       "</table>\n",
       "</div>"
      ],
      "text/plain": [
       "          TCP TCPflag\n",
       "port                 \n",
       "53    Abierto      SA"
      ]
     },
     "execution_count": 170,
     "metadata": {},
     "output_type": "execute_result"
    }
   ],
   "source": [
    "open_tcp_ports(df_tokyo)"
   ]
  },
  {
   "cell_type": "code",
   "execution_count": 171,
   "metadata": {},
   "outputs": [
    {
     "data": {
      "text/html": [
       "<div>\n",
       "<style scoped>\n",
       "    .dataframe tbody tr th:only-of-type {\n",
       "        vertical-align: middle;\n",
       "    }\n",
       "\n",
       "    .dataframe tbody tr th {\n",
       "        vertical-align: top;\n",
       "    }\n",
       "\n",
       "    .dataframe thead th {\n",
       "        text-align: right;\n",
       "    }\n",
       "</style>\n",
       "<table border=\"1\" class=\"dataframe\">\n",
       "  <thead>\n",
       "    <tr style=\"text-align: right;\">\n",
       "      <th></th>\n",
       "      <th>UDP</th>\n",
       "      <th>TCP</th>\n",
       "      <th>TCPflag</th>\n",
       "    </tr>\n",
       "    <tr>\n",
       "      <th>port</th>\n",
       "      <th></th>\n",
       "      <th></th>\n",
       "      <th></th>\n",
       "    </tr>\n",
       "  </thead>\n",
       "  <tbody>\n",
       "    <tr>\n",
       "      <th>53</th>\n",
       "      <td>Abierto | Filtrado</td>\n",
       "      <td>Abierto</td>\n",
       "      <td>SA</td>\n",
       "    </tr>\n",
       "  </tbody>\n",
       "</table>\n",
       "</div>"
      ],
      "text/plain": [
       "                     UDP      TCP TCPflag\n",
       "port                                     \n",
       "53    Abierto | Filtrado  Abierto      SA"
      ]
     },
     "execution_count": 171,
     "metadata": {},
     "output_type": "execute_result"
    }
   ],
   "source": [
    "pandas.merge(open_udp_ports(df_tokyo), open_tcp_ports(df_tokyo), how='inner', on='port')"
   ]
  },
  {
   "cell_type": "code",
   "execution_count": 172,
   "metadata": {},
   "outputs": [
    {
     "data": {
      "text/html": [
       "<div>\n",
       "<style scoped>\n",
       "    .dataframe tbody tr th:only-of-type {\n",
       "        vertical-align: middle;\n",
       "    }\n",
       "\n",
       "    .dataframe tbody tr th {\n",
       "        vertical-align: top;\n",
       "    }\n",
       "\n",
       "    .dataframe thead th {\n",
       "        text-align: right;\n",
       "    }\n",
       "</style>\n",
       "<table border=\"1\" class=\"dataframe\">\n",
       "  <thead>\n",
       "    <tr style=\"text-align: right;\">\n",
       "      <th></th>\n",
       "      <th>TCP</th>\n",
       "      <th>TCPflag</th>\n",
       "      <th>UDP</th>\n",
       "    </tr>\n",
       "    <tr>\n",
       "      <th>port</th>\n",
       "      <th></th>\n",
       "      <th></th>\n",
       "      <th></th>\n",
       "    </tr>\n",
       "  </thead>\n",
       "  <tbody>\n",
       "    <tr>\n",
       "      <th>1</th>\n",
       "      <td>Filtrado</td>\n",
       "      <td>none</td>\n",
       "      <td>Abierto | Filtrado</td>\n",
       "    </tr>\n",
       "    <tr>\n",
       "      <th>2</th>\n",
       "      <td>Filtrado</td>\n",
       "      <td>none</td>\n",
       "      <td>Abierto | Filtrado</td>\n",
       "    </tr>\n",
       "    <tr>\n",
       "      <th>3</th>\n",
       "      <td>Filtrado</td>\n",
       "      <td>none</td>\n",
       "      <td>Abierto | Filtrado</td>\n",
       "    </tr>\n",
       "    <tr>\n",
       "      <th>4</th>\n",
       "      <td>Filtrado</td>\n",
       "      <td>none</td>\n",
       "      <td>Abierto | Filtrado</td>\n",
       "    </tr>\n",
       "    <tr>\n",
       "      <th>5</th>\n",
       "      <td>Filtrado</td>\n",
       "      <td>none</td>\n",
       "      <td>Abierto | Filtrado</td>\n",
       "    </tr>\n",
       "    <tr>\n",
       "      <th>...</th>\n",
       "      <td>...</td>\n",
       "      <td>...</td>\n",
       "      <td>...</td>\n",
       "    </tr>\n",
       "    <tr>\n",
       "      <th>1020</th>\n",
       "      <td>Filtrado</td>\n",
       "      <td>none</td>\n",
       "      <td>Abierto | Filtrado</td>\n",
       "    </tr>\n",
       "    <tr>\n",
       "      <th>1021</th>\n",
       "      <td>Filtrado</td>\n",
       "      <td>none</td>\n",
       "      <td>Abierto | Filtrado</td>\n",
       "    </tr>\n",
       "    <tr>\n",
       "      <th>1022</th>\n",
       "      <td>Filtrado</td>\n",
       "      <td>none</td>\n",
       "      <td>Abierto | Filtrado</td>\n",
       "    </tr>\n",
       "    <tr>\n",
       "      <th>1023</th>\n",
       "      <td>Filtrado</td>\n",
       "      <td>none</td>\n",
       "      <td>Abierto | Filtrado</td>\n",
       "    </tr>\n",
       "    <tr>\n",
       "      <th>1024</th>\n",
       "      <td>Filtrado</td>\n",
       "      <td>none</td>\n",
       "      <td>Abierto | Filtrado</td>\n",
       "    </tr>\n",
       "  </tbody>\n",
       "</table>\n",
       "<p>1023 rows × 3 columns</p>\n",
       "</div>"
      ],
      "text/plain": [
       "           TCP TCPflag                 UDP\n",
       "port                                      \n",
       "1     Filtrado    none  Abierto | Filtrado\n",
       "2     Filtrado    none  Abierto | Filtrado\n",
       "3     Filtrado    none  Abierto | Filtrado\n",
       "4     Filtrado    none  Abierto | Filtrado\n",
       "5     Filtrado    none  Abierto | Filtrado\n",
       "...        ...     ...                 ...\n",
       "1020  Filtrado    none  Abierto | Filtrado\n",
       "1021  Filtrado    none  Abierto | Filtrado\n",
       "1022  Filtrado    none  Abierto | Filtrado\n",
       "1023  Filtrado    none  Abierto | Filtrado\n",
       "1024  Filtrado    none  Abierto | Filtrado\n",
       "\n",
       "[1023 rows x 3 columns]"
      ]
     },
     "execution_count": 172,
     "metadata": {},
     "output_type": "execute_result"
    }
   ],
   "source": [
    "filtrados(df_tokyo)"
   ]
  },
  {
   "cell_type": "markdown",
   "metadata": {},
   "source": [
    "## Nueva York"
   ]
  },
  {
   "cell_type": "code",
   "execution_count": 173,
   "metadata": {},
   "outputs": [],
   "source": [
    "file_muestra_ny='ny-195.22.199.177.csv'\n",
    "title_muestra_ny='Nueva York (195.22.199.177)'\n",
    "df_ny = read_file(file_muestra_ny)"
   ]
  },
  {
   "cell_type": "code",
   "execution_count": 174,
   "metadata": {},
   "outputs": [
    {
     "data": {
      "text/plain": [
       "<AxesSubplot:title={'center':'UDP - Nueva York (195.22.199.177)'}>"
      ]
     },
     "execution_count": 174,
     "metadata": {},
     "output_type": "execute_result"
    },
    {
     "data": {
      "image/png": "[encoded data removed]",
      "text/plain": [
       "<Figure size 432x288 with 1 Axes>"
      ]
     },
     "metadata": {},
     "output_type": "display_data"
    }
   ],
   "source": [
    "plot_udp(df_ny, title_muestra_ny).pie(ylabel='', y='UDP', title='UDP - ' + title_muestra_ny, autopct='%1.1f%%',pctdistance=1.2, labeldistance=1.4)"
   ]
  },
  {
   "cell_type": "code",
   "execution_count": 175,
   "metadata": {},
   "outputs": [
    {
     "data": {
      "text/plain": [
       "array([<AxesSubplot:>], dtype=object)"
      ]
     },
     "execution_count": 175,
     "metadata": {},
     "output_type": "execute_result"
    },
    {
     "data": {
      "image/png": "[encoded data removed]",
      "text/plain": [
       "<Figure size 432x288 with 1 Axes>"
      ]
     },
     "metadata": {},
     "output_type": "display_data"
    }
   ],
   "source": [
    "plot_tcp(df_ny, title_muestra_ny).pie(ylabel='', subplots=True, title='TCP - ' + title_muestra_ny, autopct='%1.1f%%',pctdistance=1.2, labeldistance=1.4)\n"
   ]
  },
  {
   "cell_type": "code",
   "execution_count": 176,
   "metadata": {},
   "outputs": [
    {
     "data": {
      "text/html": [
       "<div>\n",
       "<style scoped>\n",
       "    .dataframe tbody tr th:only-of-type {\n",
       "        vertical-align: middle;\n",
       "    }\n",
       "\n",
       "    .dataframe tbody tr th {\n",
       "        vertical-align: top;\n",
       "    }\n",
       "\n",
       "    .dataframe thead th {\n",
       "        text-align: right;\n",
       "    }\n",
       "</style>\n",
       "<table border=\"1\" class=\"dataframe\">\n",
       "  <thead>\n",
       "    <tr style=\"text-align: right;\">\n",
       "      <th></th>\n",
       "      <th>TCP</th>\n",
       "      <th>TCPflag</th>\n",
       "    </tr>\n",
       "    <tr>\n",
       "      <th>port</th>\n",
       "      <th></th>\n",
       "      <th></th>\n",
       "    </tr>\n",
       "  </thead>\n",
       "  <tbody>\n",
       "    <tr>\n",
       "      <th>179</th>\n",
       "      <td>Abierto</td>\n",
       "      <td>SA</td>\n",
       "    </tr>\n",
       "    <tr>\n",
       "      <th>646</th>\n",
       "      <td>Abierto</td>\n",
       "      <td>SA</td>\n",
       "    </tr>\n",
       "  </tbody>\n",
       "</table>\n",
       "</div>"
      ],
      "text/plain": [
       "          TCP TCPflag\n",
       "port                 \n",
       "179   Abierto      SA\n",
       "646   Abierto      SA"
      ]
     },
     "execution_count": 176,
     "metadata": {},
     "output_type": "execute_result"
    }
   ],
   "source": [
    "open_tcp_ports(df_ny)"
   ]
  },
  {
   "cell_type": "code",
   "execution_count": 177,
   "metadata": {},
   "outputs": [
    {
     "data": {
      "text/html": [
       "<div>\n",
       "<style scoped>\n",
       "    .dataframe tbody tr th:only-of-type {\n",
       "        vertical-align: middle;\n",
       "    }\n",
       "\n",
       "    .dataframe tbody tr th {\n",
       "        vertical-align: top;\n",
       "    }\n",
       "\n",
       "    .dataframe thead th {\n",
       "        text-align: right;\n",
       "    }\n",
       "</style>\n",
       "<table border=\"1\" class=\"dataframe\">\n",
       "  <thead>\n",
       "    <tr style=\"text-align: right;\">\n",
       "      <th></th>\n",
       "      <th>UDP</th>\n",
       "      <th>TCP</th>\n",
       "      <th>TCPflag</th>\n",
       "    </tr>\n",
       "    <tr>\n",
       "      <th>port</th>\n",
       "      <th></th>\n",
       "      <th></th>\n",
       "      <th></th>\n",
       "    </tr>\n",
       "  </thead>\n",
       "  <tbody>\n",
       "    <tr>\n",
       "      <th>646</th>\n",
       "      <td>Abierto | Filtrado</td>\n",
       "      <td>Abierto</td>\n",
       "      <td>SA</td>\n",
       "    </tr>\n",
       "  </tbody>\n",
       "</table>\n",
       "</div>"
      ],
      "text/plain": [
       "                     UDP      TCP TCPflag\n",
       "port                                     \n",
       "646   Abierto | Filtrado  Abierto      SA"
      ]
     },
     "execution_count": 177,
     "metadata": {},
     "output_type": "execute_result"
    }
   ],
   "source": [
    "pandas.merge(open_udp_ports(df_ny), open_tcp_ports(df_ny), how='inner', on='port')"
   ]
  },
  {
   "cell_type": "code",
   "execution_count": 178,
   "metadata": {},
   "outputs": [
    {
     "data": {
      "text/html": [
       "<div>\n",
       "<style scoped>\n",
       "    .dataframe tbody tr th:only-of-type {\n",
       "        vertical-align: middle;\n",
       "    }\n",
       "\n",
       "    .dataframe tbody tr th {\n",
       "        vertical-align: top;\n",
       "    }\n",
       "\n",
       "    .dataframe thead th {\n",
       "        text-align: right;\n",
       "    }\n",
       "</style>\n",
       "<table border=\"1\" class=\"dataframe\">\n",
       "  <thead>\n",
       "    <tr style=\"text-align: right;\">\n",
       "      <th></th>\n",
       "      <th>TCP</th>\n",
       "      <th>TCPflag</th>\n",
       "      <th>UDP</th>\n",
       "    </tr>\n",
       "    <tr>\n",
       "      <th>port</th>\n",
       "      <th></th>\n",
       "      <th></th>\n",
       "      <th></th>\n",
       "    </tr>\n",
       "  </thead>\n",
       "  <tbody>\n",
       "    <tr>\n",
       "      <th>135</th>\n",
       "      <td>Filtrado</td>\n",
       "      <td>none</td>\n",
       "      <td>Abierto | Filtrado</td>\n",
       "    </tr>\n",
       "    <tr>\n",
       "      <th>137</th>\n",
       "      <td>Filtrado</td>\n",
       "      <td>none</td>\n",
       "      <td>Abierto | Filtrado</td>\n",
       "    </tr>\n",
       "    <tr>\n",
       "      <th>138</th>\n",
       "      <td>Filtrado</td>\n",
       "      <td>none</td>\n",
       "      <td>Abierto | Filtrado</td>\n",
       "    </tr>\n",
       "    <tr>\n",
       "      <th>139</th>\n",
       "      <td>Filtrado</td>\n",
       "      <td>none</td>\n",
       "      <td>Abierto | Filtrado</td>\n",
       "    </tr>\n",
       "    <tr>\n",
       "      <th>445</th>\n",
       "      <td>Filtrado</td>\n",
       "      <td>none</td>\n",
       "      <td>Abierto | Filtrado</td>\n",
       "    </tr>\n",
       "    <tr>\n",
       "      <th>514</th>\n",
       "      <td>Filtrado</td>\n",
       "      <td>none</td>\n",
       "      <td>Abierto | Filtrado</td>\n",
       "    </tr>\n",
       "  </tbody>\n",
       "</table>\n",
       "</div>"
      ],
      "text/plain": [
       "           TCP TCPflag                 UDP\n",
       "port                                      \n",
       "135   Filtrado    none  Abierto | Filtrado\n",
       "137   Filtrado    none  Abierto | Filtrado\n",
       "138   Filtrado    none  Abierto | Filtrado\n",
       "139   Filtrado    none  Abierto | Filtrado\n",
       "445   Filtrado    none  Abierto | Filtrado\n",
       "514   Filtrado    none  Abierto | Filtrado"
      ]
     },
     "execution_count": 178,
     "metadata": {},
     "output_type": "execute_result"
    }
   ],
   "source": [
    "filtrados(df_ny)"
   ]
  },
  {
   "cell_type": "markdown",
   "metadata": {},
   "source": [
    "## Auckland"
   ]
  },
  {
   "cell_type": "code",
   "execution_count": 179,
   "metadata": {},
   "outputs": [],
   "source": [
    "file_muestra_auckland='auckland-156.62.238.90.csv'\n",
    "title_muestra_auckland='Auckland (156.62.238.90)'\n",
    "df_auckland = read_file(file_muestra_auckland)"
   ]
  },
  {
   "cell_type": "code",
   "execution_count": 180,
   "metadata": {},
   "outputs": [
    {
     "data": {
      "text/plain": [
       "<AxesSubplot:title={'center':'UDP - Auckland (156.62.238.90)'}>"
      ]
     },
     "execution_count": 180,
     "metadata": {},
     "output_type": "execute_result"
    },
    {
     "data": {
      "image/png": "[encoded data removed]",
      "text/plain": [
       "<Figure size 432x288 with 1 Axes>"
      ]
     },
     "metadata": {},
     "output_type": "display_data"
    }
   ],
   "source": [
    "plot_udp(df_auckland, title_muestra_auckland).pie(ylabel='', y='UDP', title='UDP - ' + title_muestra_auckland, autopct='%1.1f%%',pctdistance=1.2, labeldistance=1.4)"
   ]
  },
  {
   "cell_type": "code",
   "execution_count": 181,
   "metadata": {},
   "outputs": [
    {
     "data": {
      "text/plain": [
       "array([<AxesSubplot:>], dtype=object)"
      ]
     },
     "execution_count": 181,
     "metadata": {},
     "output_type": "execute_result"
    },
    {
     "data": {
      "image/png": "[encoded data removed]",
      "text/plain": [
       "<Figure size 432x288 with 1 Axes>"
      ]
     },
     "metadata": {},
     "output_type": "display_data"
    }
   ],
   "source": [
    "plot_tcp(df_auckland, title_muestra_auckland).pie(ylabel='', subplots=True, title='TCP - ' + title_muestra_auckland, autopct='%1.1f%%',pctdistance=1.2, labeldistance=1.4)\n"
   ]
  },
  {
   "cell_type": "code",
   "execution_count": 182,
   "metadata": {},
   "outputs": [
    {
     "data": {
      "text/html": [
       "<div>\n",
       "<style scoped>\n",
       "    .dataframe tbody tr th:only-of-type {\n",
       "        vertical-align: middle;\n",
       "    }\n",
       "\n",
       "    .dataframe tbody tr th {\n",
       "        vertical-align: top;\n",
       "    }\n",
       "\n",
       "    .dataframe thead th {\n",
       "        text-align: right;\n",
       "    }\n",
       "</style>\n",
       "<table border=\"1\" class=\"dataframe\">\n",
       "  <thead>\n",
       "    <tr style=\"text-align: right;\">\n",
       "      <th></th>\n",
       "      <th>TCP</th>\n",
       "      <th>TCPflag</th>\n",
       "    </tr>\n",
       "    <tr>\n",
       "      <th>port</th>\n",
       "      <th></th>\n",
       "      <th></th>\n",
       "    </tr>\n",
       "  </thead>\n",
       "  <tbody>\n",
       "    <tr>\n",
       "      <th>53</th>\n",
       "      <td>Abierto</td>\n",
       "      <td>SA</td>\n",
       "    </tr>\n",
       "    <tr>\n",
       "      <th>80</th>\n",
       "      <td>Abierto</td>\n",
       "      <td>SA</td>\n",
       "    </tr>\n",
       "    <tr>\n",
       "      <th>443</th>\n",
       "      <td>Abierto</td>\n",
       "      <td>SA</td>\n",
       "    </tr>\n",
       "  </tbody>\n",
       "</table>\n",
       "</div>"
      ],
      "text/plain": [
       "          TCP TCPflag\n",
       "port                 \n",
       "53    Abierto      SA\n",
       "80    Abierto      SA\n",
       "443   Abierto      SA"
      ]
     },
     "execution_count": 182,
     "metadata": {},
     "output_type": "execute_result"
    }
   ],
   "source": [
    "open_tcp_ports(df_auckland)"
   ]
  },
  {
   "cell_type": "code",
   "execution_count": 183,
   "metadata": {},
   "outputs": [
    {
     "data": {
      "text/html": [
       "<div>\n",
       "<style scoped>\n",
       "    .dataframe tbody tr th:only-of-type {\n",
       "        vertical-align: middle;\n",
       "    }\n",
       "\n",
       "    .dataframe tbody tr th {\n",
       "        vertical-align: top;\n",
       "    }\n",
       "\n",
       "    .dataframe thead th {\n",
       "        text-align: right;\n",
       "    }\n",
       "</style>\n",
       "<table border=\"1\" class=\"dataframe\">\n",
       "  <thead>\n",
       "    <tr style=\"text-align: right;\">\n",
       "      <th></th>\n",
       "      <th>UDP</th>\n",
       "      <th>TCP</th>\n",
       "      <th>TCPflag</th>\n",
       "    </tr>\n",
       "    <tr>\n",
       "      <th>port</th>\n",
       "      <th></th>\n",
       "      <th></th>\n",
       "      <th></th>\n",
       "    </tr>\n",
       "  </thead>\n",
       "  <tbody>\n",
       "    <tr>\n",
       "      <th>53</th>\n",
       "      <td>Abierto | Filtrado</td>\n",
       "      <td>Abierto</td>\n",
       "      <td>SA</td>\n",
       "    </tr>\n",
       "    <tr>\n",
       "      <th>80</th>\n",
       "      <td>Abierto | Filtrado</td>\n",
       "      <td>Abierto</td>\n",
       "      <td>SA</td>\n",
       "    </tr>\n",
       "    <tr>\n",
       "      <th>443</th>\n",
       "      <td>Abierto | Filtrado</td>\n",
       "      <td>Abierto</td>\n",
       "      <td>SA</td>\n",
       "    </tr>\n",
       "  </tbody>\n",
       "</table>\n",
       "</div>"
      ],
      "text/plain": [
       "                     UDP      TCP TCPflag\n",
       "port                                     \n",
       "53    Abierto | Filtrado  Abierto      SA\n",
       "80    Abierto | Filtrado  Abierto      SA\n",
       "443   Abierto | Filtrado  Abierto      SA"
      ]
     },
     "execution_count": 183,
     "metadata": {},
     "output_type": "execute_result"
    }
   ],
   "source": [
    "pandas.merge(open_udp_ports(df_auckland), open_tcp_ports(df_auckland), how='inner', on='port')"
   ]
  },
  {
   "cell_type": "code",
   "execution_count": 184,
   "metadata": {},
   "outputs": [
    {
     "data": {
      "text/html": [
       "<div>\n",
       "<style scoped>\n",
       "    .dataframe tbody tr th:only-of-type {\n",
       "        vertical-align: middle;\n",
       "    }\n",
       "\n",
       "    .dataframe tbody tr th {\n",
       "        vertical-align: top;\n",
       "    }\n",
       "\n",
       "    .dataframe thead th {\n",
       "        text-align: right;\n",
       "    }\n",
       "</style>\n",
       "<table border=\"1\" class=\"dataframe\">\n",
       "  <thead>\n",
       "    <tr style=\"text-align: right;\">\n",
       "      <th></th>\n",
       "      <th>TCP</th>\n",
       "      <th>TCPflag</th>\n",
       "      <th>UDP</th>\n",
       "    </tr>\n",
       "    <tr>\n",
       "      <th>port</th>\n",
       "      <th></th>\n",
       "      <th></th>\n",
       "      <th></th>\n",
       "    </tr>\n",
       "  </thead>\n",
       "  <tbody>\n",
       "    <tr>\n",
       "      <th>1</th>\n",
       "      <td>Filtrado</td>\n",
       "      <td>none</td>\n",
       "      <td>Abierto | Filtrado</td>\n",
       "    </tr>\n",
       "    <tr>\n",
       "      <th>2</th>\n",
       "      <td>Filtrado</td>\n",
       "      <td>none</td>\n",
       "      <td>Abierto | Filtrado</td>\n",
       "    </tr>\n",
       "    <tr>\n",
       "      <th>3</th>\n",
       "      <td>Filtrado</td>\n",
       "      <td>none</td>\n",
       "      <td>Abierto | Filtrado</td>\n",
       "    </tr>\n",
       "    <tr>\n",
       "      <th>4</th>\n",
       "      <td>Filtrado</td>\n",
       "      <td>none</td>\n",
       "      <td>Abierto | Filtrado</td>\n",
       "    </tr>\n",
       "    <tr>\n",
       "      <th>5</th>\n",
       "      <td>Filtrado</td>\n",
       "      <td>none</td>\n",
       "      <td>Abierto | Filtrado</td>\n",
       "    </tr>\n",
       "    <tr>\n",
       "      <th>...</th>\n",
       "      <td>...</td>\n",
       "      <td>...</td>\n",
       "      <td>...</td>\n",
       "    </tr>\n",
       "    <tr>\n",
       "      <th>1020</th>\n",
       "      <td>Filtrado</td>\n",
       "      <td>none</td>\n",
       "      <td>Abierto | Filtrado</td>\n",
       "    </tr>\n",
       "    <tr>\n",
       "      <th>1021</th>\n",
       "      <td>Filtrado</td>\n",
       "      <td>none</td>\n",
       "      <td>Abierto | Filtrado</td>\n",
       "    </tr>\n",
       "    <tr>\n",
       "      <th>1022</th>\n",
       "      <td>Filtrado</td>\n",
       "      <td>none</td>\n",
       "      <td>Abierto | Filtrado</td>\n",
       "    </tr>\n",
       "    <tr>\n",
       "      <th>1023</th>\n",
       "      <td>Filtrado</td>\n",
       "      <td>none</td>\n",
       "      <td>Abierto | Filtrado</td>\n",
       "    </tr>\n",
       "    <tr>\n",
       "      <th>1024</th>\n",
       "      <td>Filtrado</td>\n",
       "      <td>none</td>\n",
       "      <td>Abierto | Filtrado</td>\n",
       "    </tr>\n",
       "  </tbody>\n",
       "</table>\n",
       "<p>1021 rows × 3 columns</p>\n",
       "</div>"
      ],
      "text/plain": [
       "           TCP TCPflag                 UDP\n",
       "port                                      \n",
       "1     Filtrado    none  Abierto | Filtrado\n",
       "2     Filtrado    none  Abierto | Filtrado\n",
       "3     Filtrado    none  Abierto | Filtrado\n",
       "4     Filtrado    none  Abierto | Filtrado\n",
       "5     Filtrado    none  Abierto | Filtrado\n",
       "...        ...     ...                 ...\n",
       "1020  Filtrado    none  Abierto | Filtrado\n",
       "1021  Filtrado    none  Abierto | Filtrado\n",
       "1022  Filtrado    none  Abierto | Filtrado\n",
       "1023  Filtrado    none  Abierto | Filtrado\n",
       "1024  Filtrado    none  Abierto | Filtrado\n",
       "\n",
       "[1021 rows x 3 columns]"
      ]
     },
     "execution_count": 184,
     "metadata": {},
     "output_type": "execute_result"
    }
   ],
   "source": [
    "filtrados(df_auckland)"
   ]
  },
  {
   "cell_type": "code",
   "execution_count": null,
   "metadata": {},
   "outputs": [],
   "source": []
  },
  {
   "cell_type": "markdown",
   "metadata": {},
   "source": [
    "## Generales"
   ]
  },
  {
   "cell_type": "code",
   "execution_count": 74,
   "metadata": {},
   "outputs": [
    {
     "data": {
      "text/html": [
       "<div>\n",
       "<style scoped>\n",
       "    .dataframe tbody tr th:only-of-type {\n",
       "        vertical-align: middle;\n",
       "    }\n",
       "\n",
       "    .dataframe tbody tr th {\n",
       "        vertical-align: top;\n",
       "    }\n",
       "\n",
       "    .dataframe thead th {\n",
       "        text-align: right;\n",
       "    }\n",
       "</style>\n",
       "<table border=\"1\" class=\"dataframe\">\n",
       "  <thead>\n",
       "    <tr style=\"text-align: right;\">\n",
       "      <th></th>\n",
       "      <th>UDP_x</th>\n",
       "      <th>UDP_y</th>\n",
       "    </tr>\n",
       "    <tr>\n",
       "      <th>port</th>\n",
       "      <th></th>\n",
       "      <th></th>\n",
       "    </tr>\n",
       "  </thead>\n",
       "  <tbody>\n",
       "    <tr>\n",
       "      <th>11</th>\n",
       "      <td>Abierto | Filtrado</td>\n",
       "      <td>Abierto | Filtrado</td>\n",
       "    </tr>\n",
       "    <tr>\n",
       "      <th>12</th>\n",
       "      <td>Abierto | Filtrado</td>\n",
       "      <td>Abierto | Filtrado</td>\n",
       "    </tr>\n",
       "    <tr>\n",
       "      <th>14</th>\n",
       "      <td>Abierto | Filtrado</td>\n",
       "      <td>Abierto | Filtrado</td>\n",
       "    </tr>\n",
       "    <tr>\n",
       "      <th>20</th>\n",
       "      <td>Abierto | Filtrado</td>\n",
       "      <td>Abierto | Filtrado</td>\n",
       "    </tr>\n",
       "    <tr>\n",
       "      <th>29</th>\n",
       "      <td>Abierto | Filtrado</td>\n",
       "      <td>Abierto | Filtrado</td>\n",
       "    </tr>\n",
       "    <tr>\n",
       "      <th>...</th>\n",
       "      <td>...</td>\n",
       "      <td>...</td>\n",
       "    </tr>\n",
       "    <tr>\n",
       "      <th>981</th>\n",
       "      <td>Abierto | Filtrado</td>\n",
       "      <td>Abierto | Filtrado</td>\n",
       "    </tr>\n",
       "    <tr>\n",
       "      <th>993</th>\n",
       "      <td>Abierto | Filtrado</td>\n",
       "      <td>Abierto | Filtrado</td>\n",
       "    </tr>\n",
       "    <tr>\n",
       "      <th>1003</th>\n",
       "      <td>Abierto | Filtrado</td>\n",
       "      <td>Abierto | Filtrado</td>\n",
       "    </tr>\n",
       "    <tr>\n",
       "      <th>1006</th>\n",
       "      <td>Abierto | Filtrado</td>\n",
       "      <td>Abierto | Filtrado</td>\n",
       "    </tr>\n",
       "    <tr>\n",
       "      <th>1012</th>\n",
       "      <td>Abierto | Filtrado</td>\n",
       "      <td>Abierto | Filtrado</td>\n",
       "    </tr>\n",
       "  </tbody>\n",
       "</table>\n",
       "<p>112 rows × 2 columns</p>\n",
       "</div>"
      ],
      "text/plain": [
       "                   UDP_x               UDP_y\n",
       "port                                        \n",
       "11    Abierto | Filtrado  Abierto | Filtrado\n",
       "12    Abierto | Filtrado  Abierto | Filtrado\n",
       "14    Abierto | Filtrado  Abierto | Filtrado\n",
       "20    Abierto | Filtrado  Abierto | Filtrado\n",
       "29    Abierto | Filtrado  Abierto | Filtrado\n",
       "...                  ...                 ...\n",
       "981   Abierto | Filtrado  Abierto | Filtrado\n",
       "993   Abierto | Filtrado  Abierto | Filtrado\n",
       "1003  Abierto | Filtrado  Abierto | Filtrado\n",
       "1006  Abierto | Filtrado  Abierto | Filtrado\n",
       "1012  Abierto | Filtrado  Abierto | Filtrado\n",
       "\n",
       "[112 rows x 2 columns]"
      ]
     },
     "execution_count": 74,
     "metadata": {},
     "output_type": "execute_result"
    }
   ],
   "source": [
    "pandas.merge(open_udp_ports(df_tokyo), open_udp_ports(df_munich), how='inner', on='port')"
   ]
  },
  {
   "cell_type": "code",
   "execution_count": null,
   "metadata": {},
   "outputs": [],
   "source": []
  },
  {
   "cell_type": "code",
   "execution_count": null,
   "metadata": {},
   "outputs": [],
   "source": []
  }
 ],
 "metadata": {
  "kernelspec": {
   "display_name": "tdc-tp2",
   "language": "python",
   "name": "tdc-tp2"
  },
  "language_info": {
   "codemirror_mode": {
    "name": "ipython",
    "version": 3
   },
   "file_extension": ".py",
   "mimetype": "text/x-python",
   "name": "python",
   "nbconvert_exporter": "python",
   "pygments_lexer": "ipython3",
   "version": "3.8.5"
  }
 },
 "nbformat": 4,
 "nbformat_minor": 4
}
